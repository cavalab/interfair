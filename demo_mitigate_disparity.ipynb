{
 "cells": [
  {
   "cell_type": "code",
   "execution_count": null,
   "id": "602170e3",
   "metadata": {
    "scrolled": false
   },
   "outputs": [
    {
     "name": "stdout",
     "output_type": "stream",
     "text": [
      "categorical features: ['insurance', 'ethnicity']\n",
      "numeric features: ['temperature', 'heartrate', 'resprate', 'o2sat', 'sbp', 'dbp', 'pain', 'acuity', 'prev_adm']\n",
      "dataset: data/mimic/development_dataset.train.csv\n",
      "protected_features: ['ethnicity', 'gender', 'insurance']\n",
      "running 32 processes\n",
      "groups ['ethnicity', 'gender', 'insurance']\n",
      "number of variables: 121\n",
      "number of objectives: 2\n",
      "checkpoint file: checkpoint.8f632eeb-9d65-48fb-85c3-50e72ae14c2e.pkl\n",
      "==========================================================\n",
      "n_gen  |  n_eval  | n_nds  |      eps      |   indicator  \n",
      "==========================================================\n",
      "     1 |       32 |      2 |             - |             -\n",
      "     2 |       64 |      2 |  0.0883720930 |         ideal\n",
      "     3 |       96 |      3 |  0.2170635728 |             f\n",
      "     4 |      128 |      3 |  0.0046296296 |         ideal\n",
      "     5 |      160 |      4 |  0.0168602137 |         ideal\n",
      "     6 |      192 |      6 |  0.0312500000 |         ideal\n",
      "     7 |      224 |      7 |  0.0621750655 |             f\n",
      "     8 |      256 |      6 |  0.0088495575 |         nadir\n",
      "     9 |      288 |      7 |  0.0176991150 |         ideal\n",
      "    10 |      320 |      7 |  0.0215712412 |         ideal\n",
      "    11 |      352 |      6 |  0.0536114126 |         ideal\n",
      "    12 |      384 |      6 |  0.0824175824 |         ideal\n",
      "    13 |      416 |      7 |  0.0054644809 |         ideal\n",
      "    14 |      448 |      8 |  0.0069555180 |             f\n",
      "    15 |      480 |      8 |  0.0598290527 |         ideal\n",
      "    16 |      512 |     10 |  0.2046967410 |         ideal\n",
      "    17 |      544 |      8 |  0.0013846267 |             f\n",
      "    18 |      576 |     12 |  0.0497656078 |             f\n",
      "    19 |      608 |     10 |  0.0131554006 |             f\n",
      "    20 |      640 |      9 |  0.0050000000 |         ideal\n",
      "    21 |      672 |     13 |  0.0465552125 |             f\n",
      "    22 |      704 |     17 |  0.0497523214 |         ideal\n",
      "    23 |      736 |     18 |  0.0076035234 |             f\n",
      "    24 |      768 |     18 |  0.0053233969 |             f\n",
      "    25 |      800 |     11 |  0.0217362442 |         ideal\n",
      "    26 |      832 |     17 |  0.1551031669 |         ideal\n",
      "    27 |      864 |     12 |  0.0811550476 |         ideal\n",
      "    28 |      896 |     13 |  0.0195184360 |             f\n",
      "    29 |      928 |     15 |  0.0109635238 |             f\n",
      "    30 |      960 |     16 |  0.0084622817 |             f\n",
      "    31 |      992 |     16 |  0.0080179478 |             f\n",
      "    32 |     1024 |     16 |  0.0011438953 |             f\n",
      "    33 |     1056 |     16 |  0.0041569337 |             f\n",
      "    34 |     1088 |     12 |  0.0196408129 |             f\n",
      "    35 |     1120 |     11 |  0.0045119180 |             f\n",
      "    36 |     1152 |     12 |  0.0054945055 |         ideal\n",
      "    37 |     1184 |     14 |  0.1062971929 |         ideal\n",
      "    38 |     1216 |     14 |  0.0058660827 |             f\n",
      "    39 |     1248 |     14 |  0.0117530374 |             f\n",
      "    40 |     1280 |      7 |  0.0413029282 |             f\n",
      "    41 |     1312 |      7 |  0.0114942529 |         ideal\n",
      "    42 |     1344 |      5 |  0.000000E+00 |             f\n",
      "    43 |     1376 |      8 |  0.0235933538 |             f\n",
      "    44 |     1408 |      7 |  0.0082119396 |             f\n",
      "    45 |     1440 |      9 |  0.0143951651 |         ideal\n",
      "    46 |     1472 |      9 |  0.0333299580 |             f\n",
      "    47 |     1504 |      5 |  0.0106743042 |             f\n",
      "    48 |     1536 |      6 |  0.0063385911 |         ideal\n",
      "    49 |     1568 |      7 |  0.0725820815 |             f\n",
      "    50 |     1600 |      7 |  0.0221137438 |             f\n",
      "    51 |     1632 |      5 |  0.0943035898 |         nadir\n",
      "    52 |     1664 |      5 |  0.0521749925 |             f\n",
      "    53 |     1696 |     10 |  0.0038764945 |         ideal\n",
      "    54 |     1728 |      9 |  0.0057803468 |         ideal\n",
      "    55 |     1760 |     11 |  0.0089763095 |         ideal\n",
      "    56 |     1792 |     12 |  0.0087214309 |             f\n",
      "    57 |     1824 |     18 |  0.0237835970 |             f\n",
      "    58 |     1856 |     18 |  0.0209920827 |         ideal\n",
      "    59 |     1888 |     18 |  0.0375977133 |         ideal\n",
      "    60 |     1920 |     14 |  0.0039095181 |             f\n",
      "    61 |     1952 |     19 |  0.0166404269 |             f\n",
      "    62 |     1984 |     12 |  0.0058823529 |         ideal\n",
      "    63 |     2016 |     14 |  0.0058479532 |         ideal\n",
      "    64 |     2048 |     15 |  0.0359907868 |             f\n",
      "    65 |     2080 |      9 |  0.0027750345 |             f\n",
      "    66 |     2112 |      9 |  0.0517681176 |             f\n",
      "    67 |     2144 |      9 |  0.0293291402 |             f\n",
      "    68 |     2176 |     12 |  0.0294329589 |             f\n",
      "    69 |     2208 |     13 |  0.0126170892 |             f\n",
      "    70 |     2240 |     11 |  0.0301226133 |         ideal\n",
      "    71 |     2272 |     13 |  0.0109376744 |             f\n",
      "    72 |     2304 |     10 |  0.0180180180 |         nadir\n",
      "    73 |     2336 |     13 |  0.0479654843 |             f\n",
      "    74 |     2368 |      8 |  0.2333333333 |         nadir\n",
      "    75 |     2400 |      8 |  0.0109890110 |         ideal\n"
     ]
    }
   ],
   "source": [
    "from mitigate_disparity import mitigate_disparity\n",
    "\n",
    "est = mitigate_disparity(\n",
    "    dataset='data/mimic/development_dataset.train.csv',\n",
    "    protected_features=[\n",
    "        'ethnicity',\n",
    "        'gender',\n",
    "        'insurance'\n",
    "    ]\n",
    ")"
   ]
  },
  {
   "cell_type": "markdown",
   "id": "74d5bbcb",
   "metadata": {},
   "source": [
    "# visualize final front"
   ]
  },
  {
   "cell_type": "code",
   "execution_count": null,
   "id": "4ccaf9ac",
   "metadata": {},
   "outputs": [],
   "source": [
    "import pickle\n",
    "with open('estimator.pkl','rb') as f:\n",
    "    est = pickle.load(f)\n",
    "est.plot().show()"
   ]
  },
  {
   "cell_type": "markdown",
   "id": "3c7b5ab4",
   "metadata": {},
   "source": [
    "# save video of optimization"
   ]
  },
  {
   "cell_type": "code",
   "execution_count": null,
   "id": "5e5c2141",
   "metadata": {},
   "outputs": [],
   "source": [
    "from pyrecorder.recorder import Recorder\n",
    "from pyrecorder.writers.video import Video\n",
    "# from pyrecorder.writers.streamer import Streamer\n",
    "from pymoo.visualization.scatter import Scatter\n",
    "import matplotlib.pyplot as plt\n",
    "with open('estimator.pkl','rb') as f:\n",
    "    est = pickle.load(f)\n",
    "# use the video writer as a resource\n",
    "filename = \"xgb_nsga3_mlp.mp4\"\n",
    "with Recorder(Video(filename, fps=2)) as rec:\n",
    "    # for each algorithm object in the history\n",
    "    for entry in est.res_.history:\n",
    "        sc = Scatter(title=(\"Gen %s\" % entry.n_gen),\n",
    "                     labels=['Overall False Positive Rate (FPR)', 'Subgroup False Negative Rate (FNR) Violation']\n",
    "                    )\n",
    "        sc.add(entry.pop.get(\"F\"))\n",
    "#         sc.add(entry.pop.get(\"F\"), plot_type=\"line\", color=\"black\", alpha=0.7)\n",
    "        sc.do()\n",
    "#         plt.xlim([0.02, 0.1])\n",
    "#         plt.ylim([0.29, 0.39])\n",
    "        # finally record the current visualization to the video\n",
    "        rec.record()\n",
    "    "
   ]
  },
  {
   "cell_type": "markdown",
   "id": "44f51dd7",
   "metadata": {},
   "source": [
    "# check test set performance"
   ]
  },
  {
   "cell_type": "code",
   "execution_count": null,
   "id": "4a35e0ad",
   "metadata": {},
   "outputs": [],
   "source": [
    "from utils import make_measure_dataset\n",
    "import pandas as pd\n",
    "\n",
    "import pickle\n",
    "with open('estimator.pkl','rb') as f:\n",
    "    est = pickle.load(f)\n",
    "    \n",
    "df_test = pd.read_csv('data/mimic/development_dataset.test.csv')\n",
    "X_test = df_test.drop(columns='binary outcome')\n",
    "y_test = df_test['binary outcome']\n",
    "make_measure_dataset(est, 'fomo', X_test, y_test)"
   ]
  },
  {
   "cell_type": "code",
   "execution_count": null,
   "id": "1026dd49",
   "metadata": {
    "scrolled": false
   },
   "outputs": [],
   "source": [
    "from measure_disparity import measure_disparity\n",
    "df_fairness = measure_disparity('fomo_model_mimic4_admission.csv')"
   ]
  }
 ],
 "metadata": {
  "kernelspec": {
   "display_name": "Python 3 (ipykernel)",
   "language": "python",
   "name": "python3"
  },
  "language_info": {
   "codemirror_mode": {
    "name": "ipython",
    "version": 3
   },
   "file_extension": ".py",
   "mimetype": "text/x-python",
   "name": "python",
   "nbconvert_exporter": "python",
   "pygments_lexer": "ipython3",
   "version": "3.11.0"
  }
 },
 "nbformat": 4,
 "nbformat_minor": 5
}
