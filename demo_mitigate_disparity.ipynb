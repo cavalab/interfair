{
 "cells": [
  {
   "cell_type": "markdown",
   "id": "969d6a34",
   "metadata": {},
   "source": [
    "# Demo: Mitigate Disparity\n",
    "\n",
    "This demo shows how to run the `mitigate_disparity` scripot on a development dataset. \n",
    "In addition to providing a dataset, the user should identify protected features by providing a list of column names corresponding to demographics and/or other variables over which fairness should be sought."
   ]
  },
  {
   "cell_type": "code",
   "execution_count": null,
   "id": "2b5481fa",
   "metadata": {},
   "outputs": [
    {
     "name": "stdout",
     "output_type": "stream",
     "text": [
      "dataset: ../data/mimic/development_dataset.train.csv\n",
      "protected_features: ('ethnicity', 'gender', 'insurance')\n",
      "running 64 processes\n",
      "groups ['ethnicity', 'gender', 'insurance']\n",
      "number of variables: 121\n",
      "number of objectives: 2\n",
      "Loaded Checkpoint: <pymoo.algorithms.moo.nsga3.NSGA3 object at 0x7f74b420d210>\n",
      "checkpoint file: checkpoint.4b889672-8cbc-40a3-b6c3-71fa5738efcd.pkl\n",
      "    77 |     4928 |     14 |  0.0510104788 |         ideal\n",
      "    78 |     4992 |     14 |  0.000000E+00 |             f\n"
     ]
    }
   ],
   "source": [
    "%run ../mitigate_disparity.py \\\n",
    "    --dataset ../data/mimic/development_dataset.train.csv \\\n",
    "    --protected_features ethnicity,gender,insurance \\\n",
    "    --starting_point \"checkpoint.25e21a10-80f0-4c4c-8b26-83243e32bd2a.pkl\""
   ]
  },
  {
   "cell_type": "code",
   "execution_count": 1,
   "id": "602170e3",
   "metadata": {
    "scrolled": false
   },
   "outputs": [
    {
     "ename": "ModuleNotFoundError",
     "evalue": "No module named 'mitigate_disparity'",
     "output_type": "error",
     "traceback": [
      "\u001b[0;31m---------------------------------------------------------------------------\u001b[0m",
      "\u001b[0;31mModuleNotFoundError\u001b[0m                       Traceback (most recent call last)",
      "Cell \u001b[0;32mIn[1], line 1\u001b[0m\n\u001b[0;32m----> 1\u001b[0m \u001b[38;5;28;01mfrom\u001b[39;00m \u001b[38;5;21;01mmitigate_disparity\u001b[39;00m \u001b[38;5;28;01mimport\u001b[39;00m mitigate_disparity\n\u001b[1;32m      3\u001b[0m est \u001b[38;5;241m=\u001b[39m mitigate_disparity(\n\u001b[1;32m      4\u001b[0m     dataset\u001b[38;5;241m=\u001b[39m\u001b[38;5;124m'\u001b[39m\u001b[38;5;124mdata/mimic/development_dataset.train.csv\u001b[39m\u001b[38;5;124m'\u001b[39m,\n\u001b[1;32m      5\u001b[0m     protected_features\u001b[38;5;241m=\u001b[39m[\n\u001b[0;32m   (...)\u001b[0m\n\u001b[1;32m     10\u001b[0m     starting_point \u001b[38;5;241m=\u001b[39m \u001b[38;5;124m'\u001b[39m\u001b[38;5;124mcheckpoint.25e21a10-80f0-4c4c-8b26-83243e32bd2a.pkl\u001b[39m\u001b[38;5;124m'\u001b[39m\n\u001b[1;32m     11\u001b[0m )\n",
      "\u001b[0;31mModuleNotFoundError\u001b[0m: No module named 'mitigate_disparity'"
     ]
    }
   ],
   "source": [
    "# from mitigate_disparity import mitigate_disparity\n",
    "\n",
    "# est = mitigate_disparity(\n",
    "#     dataset='data/mimic/development_dataset.train.csv',\n",
    "#     protected_features=[\n",
    "#         'ethnicity',\n",
    "#         'gender',\n",
    "#         'insurance'\n",
    "#     ],\n",
    "#     starting_point = 'checkpoint.25e21a10-80f0-4c4c-8b26-83243e32bd2a.pkl'\n",
    "# )"
   ]
  },
  {
   "cell_type": "markdown",
   "id": "74d5bbcb",
   "metadata": {},
   "source": [
    "## Visualize final front\n",
    "\n",
    "Once training is done, we can view a set of candidate models. \n",
    "The red dot indicates the model that was selected. \n",
    "In addition to the default \"PseudoWeights\" approach, FOMO provides other multi-criteria decsion making (MCDM) algorithms via pymoo."
   ]
  },
  {
   "cell_type": "code",
   "execution_count": null,
   "id": "13bf9b0f",
   "metadata": {},
   "outputs": [],
   "source": [
    "import dill\n",
    "with open('checkpoint.25e21a10-80f0-4c4c-8b26-83243e32bd2a.pkl', 'rb') as f:\n",
    "    alg = dill.load(f)\n",
    "alg"
   ]
  },
  {
   "cell_type": "code",
   "execution_count": null,
   "id": "4ccaf9ac",
   "metadata": {},
   "outputs": [],
   "source": [
    "import pickle\n",
    "with open('estimator.pkl','rb') as f:\n",
    "    est = pickle.load(f)\n",
    "est.plot().show()"
   ]
  },
  {
   "cell_type": "markdown",
   "id": "3c7b5ab4",
   "metadata": {},
   "source": [
    "# save video of optimization"
   ]
  },
  {
   "cell_type": "code",
   "execution_count": null,
   "id": "5e5c2141",
   "metadata": {},
   "outputs": [],
   "source": [
    "from pyrecorder.recorder import Recorder\n",
    "from pyrecorder.writers.video import Video\n",
    "# from pyrecorder.writers.streamer import Streamer\n",
    "from pymoo.visualization.scatter import Scatter\n",
    "import matplotlib.pyplot as plt\n",
    "with open('estimator.pkl','rb') as f:\n",
    "    est = pickle.load(f)\n",
    "# use the video writer as a resource\n",
    "filename = \"xgb_nsga3_mlp.mp4\"\n",
    "# from pyrecorder.writers.gif import GIF\n",
    "# result = alg.result()\n",
    "result = est.res_\n",
    "\n",
    "with Recorder(Video(filename, fps=10)) as rec:\n",
    "# with Recorder(GIF(filename, duration=10)) as rec:\n",
    "    # for each algorithm object in the history\n",
    "    for entry in result.history:\n",
    "        sc = Scatter(title=(\"Gen %s\" % entry.n_gen),\n",
    "                     labels=['Overall False Positive Rate (FPR)', 'Subgroup False Negative Rate (FNR) Violation']\n",
    "                    )\n",
    "        sc.add(entry.pop.get(\"F\"))\n",
    "#         sc.add(entry.pop.get(\"F\"), plot_type=\"line\", color=\"black\", alpha=0.7)\n",
    "        sc.do()\n",
    "        plt.xlim([0.045, 0.085])\n",
    "        plt.ylim([0.04, 0.41])\n",
    "        # finally record the current visualization to the video\n",
    "        rec.record()\n",
    "    "
   ]
  },
  {
   "cell_type": "markdown",
   "id": "44f51dd7",
   "metadata": {},
   "source": [
    "# check test set performance"
   ]
  },
  {
   "cell_type": "code",
   "execution_count": null,
   "id": "4a35e0ad",
   "metadata": {},
   "outputs": [],
   "source": [
    "from utils import make_measure_dataset\n",
    "import pandas as pd\n",
    "\n",
    "import pickle\n",
    "with open('estimator.pkl','rb') as f:\n",
    "    est = pickle.load(f)\n",
    "    \n",
    "df_test = pd.read_csv('data/mimic/development_dataset.test.csv')\n",
    "X_test = df_test.drop(columns='binary outcome')\n",
    "y_test = df_test['binary outcome']\n",
    "make_measure_dataset(est, 'fomo', X_test, y_test)"
   ]
  },
  {
   "cell_type": "code",
   "execution_count": null,
   "id": "1026dd49",
   "metadata": {
    "scrolled": false
   },
   "outputs": [],
   "source": [
    "from measure_disparity import measure_disparity\n",
    "df_fairness = measure_disparity('fomo_model_mimic4_admission.csv')"
   ]
  }
 ],
 "metadata": {
  "kernelspec": {
   "display_name": "Python 3 (ipykernel)",
   "language": "python",
   "name": "python3"
  },
  "language_info": {
   "codemirror_mode": {
    "name": "ipython",
    "version": 3
   },
   "file_extension": ".py",
   "mimetype": "text/x-python",
   "name": "python",
   "nbconvert_exporter": "python",
   "pygments_lexer": "ipython3",
   "version": "3.11.0"
  }
 },
 "nbformat": 4,
 "nbformat_minor": 5
}
