{
 "cells": [
  {
   "cell_type": "markdown",
   "id": "b78c0fd6",
   "metadata": {},
   "source": [
    "# Demo: Mitigate Disparity\n",
    "\n",
    "This demo shows how to run the `mitigate_disparity` scripot on a development dataset. \n",
    "In addition to providing a dataset, the user should identify protected features by providing a list of column names corresponding to demographics and/or other variables over which fairness should be sought."
   ]
  },
  {
   "cell_type": "code",
   "execution_count": null,
   "id": "602170e3",
   "metadata": {
    "scrolled": false
   },
   "outputs": [
    {
     "name": "stdout",
     "output_type": "stream",
     "text": [
      "categorical features: ['insurance', 'ethnicity']\n",
      "numeric features: ['temperature', 'heartrate', 'resprate', 'o2sat', 'sbp', 'dbp', 'pain', 'acuity', 'prev_adm']\n",
      "dataset: data/mimic/development_dataset.train.csv\n",
      "protected_features: ['ethnicity', 'gender', 'insurance']\n",
      "running 64 processes\n",
      "groups ['ethnicity', 'gender', 'insurance']\n",
      "number of variables: 121\n",
      "number of objectives: 2\n",
      "checkpoint file: checkpoint.25e21a10-80f0-4c4c-8b26-83243e32bd2a.pkl\n",
      "==========================================================\n",
      "n_gen  |  n_eval  | n_nds  |      eps      |   indicator  \n",
      "==========================================================\n",
      "     1 |       64 |      5 |             - |             -\n",
      "     2 |      128 |      6 |  0.0102040816 |         ideal\n",
      "     3 |      192 |      5 |  0.0576923077 |         ideal\n",
      "     4 |      256 |      7 |  0.0094339623 |         ideal\n",
      "     5 |      320 |     11 |  0.0192307692 |         nadir\n",
      "     6 |      384 |      7 |  0.0189659210 |         ideal\n",
      "     7 |      448 |      7 |  0.0224444900 |         ideal\n",
      "     8 |      512 |      4 |  0.0554088055 |             f\n",
      "     9 |      576 |      5 |  0.0376407175 |             f\n",
      "    10 |      640 |      7 |  0.0315789474 |         ideal\n",
      "    11 |      704 |      9 |  0.0500000000 |         ideal\n",
      "    12 |      768 |      8 |  0.0314179181 |             f\n",
      "    13 |      832 |      6 |  0.0162035649 |             f\n",
      "    14 |      896 |      5 |  0.0550800621 |             f\n",
      "    15 |      960 |      9 |  0.0972697737 |             f\n",
      "    16 |     1024 |      5 |  0.0476190476 |         ideal\n",
      "    17 |     1088 |      5 |  0.0277777778 |         ideal\n"
     ]
    }
   ],
   "source": [
    "from mitigate_disparity import mitigate_disparity\n",
    "\n",
    "est = mitigate_disparity(\n",
    "    dataset='data/mimic/development_dataset.train.csv',\n",
    "    protected_features=[\n",
    "        'ethnicity',\n",
    "        'gender',\n",
    "        'insurance'\n",
    "    ]\n",
    ")"
   ]
  },
  {
   "cell_type": "markdown",
   "id": "74d5bbcb",
   "metadata": {},
   "source": [
    "## Visualize final front\n",
    "\n",
    "Once training is done, we can view a set of candidate models. \n",
    "The red dot indicates the model that was selected. \n",
    "In addition to the default \"PseudoWeights\" approach, FOMO provides other multi-criteria decsion making (MCDM) algorithms via pymoo."
   ]
  },
  {
   "cell_type": "code",
   "execution_count": null,
   "id": "4ccaf9ac",
   "metadata": {},
   "outputs": [],
   "source": [
    "import pickle\n",
    "with open('estimator.pkl','rb') as f:\n",
    "    est = pickle.load(f)\n",
    "est.plot().show()"
   ]
  },
  {
   "cell_type": "markdown",
   "id": "3c7b5ab4",
   "metadata": {},
   "source": [
    "# save video of optimization"
   ]
  },
  {
   "cell_type": "code",
   "execution_count": null,
   "id": "5e5c2141",
   "metadata": {},
   "outputs": [],
   "source": [
    "from pyrecorder.recorder import Recorder\n",
    "from pyrecorder.writers.video import Video\n",
    "# from pyrecorder.writers.streamer import Streamer\n",
    "from pymoo.visualization.scatter import Scatter\n",
    "import matplotlib.pyplot as plt\n",
    "with open('estimator.pkl','rb') as f:\n",
    "    est = pickle.load(f)\n",
    "# use the video writer as a resource\n",
    "filename = \"xgb_nsga3_mlp.mp4\"\n",
    "# from pyrecorder.writers.gif import GIF\n",
    "with Recorder(Video(filename, fps=10)) as rec:\n",
    "# with Recorder(GIF(filename, duration=10)) as rec:\n",
    "    # for each algorithm object in the history\n",
    "    for entry in est.res_.history:\n",
    "        sc = Scatter(title=(\"Gen %s\" % entry.n_gen),\n",
    "                     labels=['Overall False Positive Rate (FPR)', 'Subgroup False Negative Rate (FNR) Violation']\n",
    "                    )\n",
    "        sc.add(entry.pop.get(\"F\"))\n",
    "#         sc.add(entry.pop.get(\"F\"), plot_type=\"line\", color=\"black\", alpha=0.7)\n",
    "        sc.do()\n",
    "        plt.xlim([0.045, 0.085])\n",
    "        plt.ylim([0.04, 0.41])\n",
    "        # finally record the current visualization to the video\n",
    "        rec.record()\n",
    "    "
   ]
  },
  {
   "cell_type": "markdown",
   "id": "44f51dd7",
   "metadata": {},
   "source": [
    "# check test set performance"
   ]
  },
  {
   "cell_type": "code",
   "execution_count": null,
   "id": "4a35e0ad",
   "metadata": {},
   "outputs": [],
   "source": [
    "from utils import make_measure_dataset\n",
    "import pandas as pd\n",
    "\n",
    "import pickle\n",
    "with open('estimator.pkl','rb') as f:\n",
    "    est = pickle.load(f)\n",
    "    \n",
    "df_test = pd.read_csv('data/mimic/development_dataset.test.csv')\n",
    "X_test = df_test.drop(columns='binary outcome')\n",
    "y_test = df_test['binary outcome']\n",
    "make_measure_dataset(est, 'fomo', X_test, y_test)"
   ]
  },
  {
   "cell_type": "code",
   "execution_count": null,
   "id": "1026dd49",
   "metadata": {
    "scrolled": false
   },
   "outputs": [],
   "source": [
    "from measure_disparity import measure_disparity\n",
    "df_fairness = measure_disparity('fomo_model_mimic4_admission.csv')"
   ]
  }
 ],
 "metadata": {
  "kernelspec": {
   "display_name": "Python 3 (ipykernel)",
   "language": "python",
   "name": "python3"
  },
  "language_info": {
   "codemirror_mode": {
    "name": "ipython",
    "version": 3
   },
   "file_extension": ".py",
   "mimetype": "text/x-python",
   "name": "python",
   "nbconvert_exporter": "python",
   "pygments_lexer": "ipython3",
   "version": "3.11.0"
  }
 },
 "nbformat": 4,
 "nbformat_minor": 5
}
