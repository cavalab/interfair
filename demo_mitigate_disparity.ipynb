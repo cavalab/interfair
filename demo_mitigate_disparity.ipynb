{
 "cells": [
  {
   "cell_type": "code",
   "execution_count": null,
   "id": "602170e3",
   "metadata": {
    "scrolled": false
   },
   "outputs": [
    {
     "name": "stdout",
     "output_type": "stream",
     "text": [
      "categorical features: ['insurance', 'ethnicity']\n",
      "numeric features: ['temperature', 'heartrate', 'resprate', 'o2sat', 'sbp', 'dbp', 'pain', 'acuity', 'prev_adm']\n",
      "dataset: data/mimic/development_dataset.csv\n",
      "protected_features: ['ethnicity_0', 'ethnicity_1', 'ethnicity_2', 'ethnicity_3', 'ethnicity_4', 'insurance_0', 'insurance_1', 'insurance_2']\n",
      "running 64 processes\n",
      "groups ['ethnicity_0', 'ethnicity_1', 'ethnicity_2', 'ethnicity_3', 'ethnicity_4', 'insurance_0', 'insurance_1', 'insurance_2']\n",
      "number of variables: 101\n",
      "number of objectives: 2\n",
      "checkpoint file: checkpoint.c7ca6256-26a1-4994-81cd-e2c1c05de2dc.pkl\n",
      "==========================================================\n",
      "n_gen  |  n_eval  | n_nds  |      eps      |   indicator  \n",
      "==========================================================\n",
      "     1 |       64 |      4 |             - |             -\n",
      "     2 |      128 |      5 |  0.0190842009 |             f\n",
      "     3 |      192 |      6 |  0.2627511592 |         nadir\n",
      "     4 |      256 |      9 |  0.3035522067 |         ideal\n",
      "     5 |      320 |     10 |  0.0247432477 |             f\n",
      "     6 |      384 |     11 |  0.0289591856 |             f\n",
      "     7 |      448 |     12 |  0.0134550230 |             f\n",
      "     8 |      512 |     10 |  0.0363825364 |         ideal\n",
      "     9 |      576 |     17 |  0.0363101053 |             f\n",
      "    10 |      640 |     17 |  0.0373747732 |         ideal\n",
      "    11 |      704 |     18 |  0.0027764505 |             f\n",
      "    12 |      768 |     19 |  0.0038800210 |             f\n",
      "    13 |      832 |     16 |  0.2481203008 |         ideal\n",
      "    14 |      896 |     16 |  0.0037453184 |         ideal\n",
      "    15 |      960 |     17 |  0.0072791865 |         nadir\n",
      "    16 |     1024 |     17 |  0.0122174710 |         ideal\n",
      "    17 |     1088 |     17 |  0.0022974868 |             f\n",
      "    18 |     1152 |     17 |  0.0046250608 |             f\n",
      "    19 |     1216 |     17 |  0.0077599747 |         ideal\n",
      "    20 |     1280 |     18 |  0.0035884276 |             f\n",
      "    21 |     1344 |     16 |  0.0209831825 |             f\n",
      "    22 |     1408 |     16 |  0.0068500591 |         nadir\n",
      "    23 |     1472 |     16 |  0.0013860456 |             f\n",
      "    24 |     1536 |     16 |  0.0048309179 |         nadir\n",
      "    25 |     1600 |     18 |  0.0014978595 |             f\n",
      "    26 |     1664 |     19 |  0.0205765113 |             f\n",
      "    27 |     1728 |     19 |  0.0027234681 |             f\n",
      "    28 |     1792 |     19 |  0.0018783426 |             f\n",
      "    29 |     1856 |     21 |  0.0072787056 |             f\n",
      "    30 |     1920 |     21 |  0.0026098272 |             f\n",
      "    31 |     1984 |     21 |  0.0005261222 |             f\n",
      "    32 |     2048 |     17 |  0.0051961750 |             f\n",
      "    33 |     2112 |     17 |  0.0178761879 |         nadir\n",
      "    34 |     2176 |     17 |  0.0112003850 |         ideal\n",
      "    35 |     2240 |     16 |  0.0096217603 |             f\n",
      "    36 |     2304 |     18 |  0.0103459741 |         ideal\n",
      "    37 |     2368 |     18 |  0.0012449388 |             f\n",
      "    38 |     2432 |     17 |  0.0108794476 |             f\n",
      "    39 |     2496 |     18 |  0.0028414571 |         ideal\n",
      "    40 |     2560 |     19 |  0.0022432206 |             f\n",
      "    41 |     2624 |     20 |  0.0061177696 |             f\n",
      "    42 |     2688 |     19 |  0.0105237651 |             f\n",
      "    43 |     2752 |     19 |  0.0151970445 |         ideal\n",
      "    44 |     2816 |     19 |  0.0041371158 |         nadir\n",
      "    45 |     2880 |     20 |  0.0164917530 |         nadir\n",
      "    46 |     2944 |     20 |  0.0071382807 |         nadir\n",
      "    47 |     3008 |     18 |  0.0160579595 |         ideal\n",
      "    48 |     3072 |     19 |  0.0059076262 |         nadir\n",
      "    49 |     3136 |     19 |  0.0030128447 |         ideal\n",
      "    50 |     3200 |     20 |  0.0248626893 |         nadir\n",
      "    51 |     3264 |     20 |  0.0059127248 |             f\n",
      "    52 |     3328 |     20 |  0.0162713055 |         ideal\n",
      "    53 |     3392 |     20 |  0.0074567047 |             f\n",
      "    54 |     3456 |     20 |  0.0035722959 |         ideal\n",
      "    55 |     3520 |     21 |  0.0026875988 |             f\n",
      "    56 |     3584 |     21 |  0.0029556830 |         ideal\n",
      "    57 |     3648 |     21 |  0.0058065982 |             f\n",
      "    58 |     3712 |     21 |  0.0018810827 |             f\n",
      "    59 |     3776 |     19 |  0.0031612223 |         nadir\n",
      "    60 |     3840 |     19 |  0.0020280479 |             f\n",
      "    61 |     3904 |     19 |  0.0043746110 |             f\n",
      "    62 |     3968 |     19 |  0.0035093909 |             f\n",
      "    63 |     4032 |     20 |  0.0050301859 |         ideal\n",
      "    64 |     4096 |     21 |  0.0160095753 |         nadir\n"
     ]
    }
   ],
   "source": [
    "from mitigate_disparity import mitigate_disparity\n",
    "\n",
    "est = mitigate_disparity(\n",
    "    dataset='data/mimic/development_dataset.csv',\n",
    "    protected_features=[\n",
    "        'ethnicity_0',\n",
    "        'ethnicity_1',\n",
    "        'ethnicity_2',\n",
    "        'ethnicity_3',\n",
    "        'ethnicity_4',\n",
    "        'insurance_0',\n",
    "        'insurance_1',\n",
    "        'insurance_2'\n",
    "    ]\n",
    ")"
   ]
  },
  {
   "cell_type": "code",
   "execution_count": null,
   "id": "4ccaf9ac",
   "metadata": {},
   "outputs": [],
   "source": [
    "est.plot().show()"
   ]
  },
  {
   "cell_type": "markdown",
   "id": "3c7b5ab4",
   "metadata": {},
   "source": [
    "# save video of optimization"
   ]
  },
  {
   "cell_type": "code",
   "execution_count": null,
   "id": "5e5c2141",
   "metadata": {},
   "outputs": [],
   "source": [
    "from pyrecorder.recorder import Recorder\n",
    "from pyrecorder.writers.video import Video\n",
    "# from pyrecorder.writers.streamer import Streamer\n",
    "from pymoo.visualization.scatter import Scatter\n",
    "import matplotlib.pyplot as plt\n",
    "import pickle\n",
    "with open('estimator.pkl','rb') as f:\n",
    "    est = pickle.load(f)\n",
    "# use the video writer as a resource\n",
    "filename = \"lr_nsga3_mlp.mp4\"\n",
    "with Recorder(Video(filename, fps=2)) as rec:\n",
    "    # for each algorithm object in the history\n",
    "    for entry in est.res_.history:\n",
    "        sc = Scatter(title=(\"Gen %s\" % entry.n_gen),\n",
    "                     labels=['Overall False Positive Rate (FPR)', 'Subgroup False Negative Rate (FNR) Violation']\n",
    "                    )\n",
    "        sc.add(entry.pop.get(\"F\"))\n",
    "#         sc.add(entry.pop.get(\"F\"), plot_type=\"line\", color=\"black\", alpha=0.7)\n",
    "        sc.do()\n",
    "#         plt.xlim([0.02, 0.1])\n",
    "#         plt.ylim([0.29, 0.39])\n",
    "        # finally record the current visualization to the video\n",
    "        rec.record()\n",
    "    "
   ]
  },
  {
   "cell_type": "code",
   "execution_count": null,
   "id": "d480d92b",
   "metadata": {},
   "outputs": [],
   "source": [
    "# visualize final front"
   ]
  },
  {
   "cell_type": "code",
   "execution_count": null,
   "id": "0eef6132",
   "metadata": {},
   "outputs": [],
   "source": [
    "# pick final model"
   ]
  }
 ],
 "metadata": {
  "kernelspec": {
   "display_name": "Python 3 (ipykernel)",
   "language": "python",
   "name": "python3"
  },
  "language_info": {
   "codemirror_mode": {
    "name": "ipython",
    "version": 3
   },
   "file_extension": ".py",
   "mimetype": "text/x-python",
   "name": "python",
   "nbconvert_exporter": "python",
   "pygments_lexer": "ipython3",
   "version": "3.11.0"
  }
 },
 "nbformat": 4,
 "nbformat_minor": 5
}
