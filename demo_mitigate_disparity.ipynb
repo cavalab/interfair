{
 "cells": [
  {
   "cell_type": "code",
   "execution_count": null,
   "id": "602170e3",
   "metadata": {},
   "outputs": [],
   "source": [
    "from mitigate_disparity import mitigate_disparity\n",
    "\n",
    "est = mitigate_disparity(\n",
    "    dataset='data/mimic/development_dataset.csv',\n",
    "    protected_features=[\n",
    "        'ethnicity_0',\n",
    "        'ethnicity_1',\n",
    "        'ethnicity_2',\n",
    "        'ethnicity_3',\n",
    "        'ethnicity_4',\n",
    "        'insurance_0',\n",
    "        'insurance_1',\n",
    "        'insurance_2'\n",
    "    ]\n",
    ")"
   ]
  }
 ],
 "metadata": {
  "kernelspec": {
   "display_name": "Python 3 (ipykernel)",
   "language": "python",
   "name": "python3"
  },
  "language_info": {
   "codemirror_mode": {
    "name": "ipython",
    "version": 3
   },
   "file_extension": ".py",
   "mimetype": "text/x-python",
   "name": "python",
   "nbconvert_exporter": "python",
   "pygments_lexer": "ipython3",
   "version": "3.11.0"
  }
 },
 "nbformat": 4,
 "nbformat_minor": 5
}
