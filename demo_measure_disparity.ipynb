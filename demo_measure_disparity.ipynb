{
 "cells": [
  {
   "cell_type": "code",
   "execution_count": null,
   "id": "032fb52f",
   "metadata": {},
   "outputs": [],
   "source": [
    "import copy\n",
    "import pandas as pd\n",
    "import numpy as np\n",
    "from sklearn.preprocessing import StandardScaler\n",
    "from sklearn.linear_model import LogisticRegression\n",
    "from sklearn.model_selection import train_test_split\n",
    "from sklearn.pipeline import Pipeline\n",
    "from sklearn.metrics import roc_auc_score, average_precision_score\n",
    "from sklearn.metrics import make_scorer, accuracy_score\n",
    "# from pmlb import pmlb   \n",
    "import time\n",
    "\n",
    "dataset = 'data/mimic/mimic4_admissions.csv'\n",
    "sample_size = np.inf\n",
    "random_state = 42"
   ]
  },
  {
   "cell_type": "markdown",
   "id": "3567b3ca",
   "metadata": {},
   "source": [
    "# train a model to predict admissions"
   ]
  },
  {
   "cell_type": "code",
   "execution_count": null,
   "id": "41668518",
   "metadata": {},
   "outputs": [],
   "source": [
    "from io_mimic import read_file\n",
    "\n",
    "##################################################\n",
    "# setup data\n",
    "##################################################\n",
    "tmp = read_file(\n",
    "    dataset,\n",
    "    one_hot_encode = 'ohc',\n",
    "    label='y',\n",
    "    freetext_features=[ 'chiefcomplaint'],\n",
    "#     label_features=[\n",
    "#         'ethnicity',\n",
    "#         'insurance'\n",
    "#     ],\n",
    "    sample_size = sample_size\n",
    ")\n",
    "if len(tmp) == 2:\n",
    "    features, labels = tmp \n",
    "elif len(tmp) == 3:\n",
    "    print('Note: changing \"groups\" from',groups,'to',tmp[2])\n",
    "    features, labels, groups = tmp \n",
    "print('features:')\n",
    "print(features.head())\n",
    "print(features.shape)\n",
    "# generate train/test split\n",
    "X_train, X_test, y_train, y_test = train_test_split(features, labels,\n",
    "                                                train_size=0.75,\n",
    "                                                test_size=0.25,\n",
    "                                                shuffle=True,\n",
    "                                                random_state=random_state,\n",
    "                                                stratify=labels\n",
    "                                                )                                                      "
   ]
  },
  {
   "cell_type": "code",
   "execution_count": null,
   "id": "c309f461",
   "metadata": {},
   "outputs": [],
   "source": [
    "from io_mimic import one_hot_encode_labels\n",
    "df = X_train\n",
    "for col in ['ethnicity','insurance']:\n",
    "    df = one_hot_encode_labels(df, col)\n",
    "df['binary outcome'] = y_train\n",
    "df.to_csv('data/mimic/development_dataset.csv',index=False)"
   ]
  },
  {
   "cell_type": "code",
   "execution_count": null,
   "id": "f2994ce6",
   "metadata": {},
   "outputs": [],
   "source": [
    "df.columns[-10:]"
   ]
  },
  {
   "cell_type": "markdown",
   "id": "09471479",
   "metadata": {},
   "source": [
    "# define the estimator\n",
    "\n",
    "We define a penalized (lasso) logistic regression model with median imputation and standard scaling as preprocessing steps. "
   ]
  },
  {
   "cell_type": "code",
   "execution_count": null,
   "id": "38b57aa0",
   "metadata": {},
   "outputs": [],
   "source": [
    "from sklearn.linear_model import LogisticRegression\n",
    "from sklearn.ensemble import RandomForestClassifier\n",
    "from sklearn.impute import SimpleImputer\n",
    "from sklearn.preprocessing import StandardScaler, OneHotEncoder\n",
    "from sklearn.pipeline import Pipeline, make_pipeline\n",
    "from sklearn.compose import ColumnTransformer\n",
    "from sklearn.experimental import enable_halving_search_cv # noqa\n",
    "from sklearn.model_selection import HalvingGridSearchCV\n",
    "import numpy as np\n",
    "from tempfile import mkdtemp\n",
    "cachedir = mkdtemp()\n",
    "\n",
    "base_model = LogisticRegression(n_jobs=1, solver='saga',penalty='l1')\n",
    "# base_model = RandomForestClassifier(n_jobs=1)\n",
    "\n",
    "categorical_features = ['insurance','ethnicity'] #X_train.select_dtypes(['object','category','int']).columns \n",
    "numeric_features = [col for col in X_train.select_dtypes('float').columns] # columns if col not in categorical_features]\n",
    "print('categorical features:',categorical_features)\n",
    "print('numeric features:',numeric_features)\n",
    "\n",
    "numeric_transformer = make_pipeline(SimpleImputer(strategy=\"median\"), StandardScaler())\n",
    "\n",
    "# from sklearn.ensemble import RandomForestClassifier\n",
    "# est = RandomForestClassifier()\n",
    "preprocessor = ColumnTransformer(\n",
    "    [\n",
    "        (\"num\", numeric_transformer, numeric_features),\n",
    "        (\n",
    "            \"cat\",\n",
    "            OneHotEncoder(handle_unknown=\"ignore\", sparse_output=False),\n",
    "            categorical_features,\n",
    "        ),\n",
    "    ],\n",
    "    verbose_feature_names_out=False,\n",
    "    remainder='passthrough'\n",
    ")\n",
    "est = make_pipeline(preprocessor, base_model)"
   ]
  },
  {
   "cell_type": "code",
   "execution_count": null,
   "id": "f478515e",
   "metadata": {},
   "outputs": [],
   "source": [
    "# train model\n",
    "########################################\n",
    "# configure estimators\n",
    "########################################\n",
    "setatts = {\n",
    "    'random_state':random_state, \n",
    "}\n",
    "np.random.seed(random_state)\n",
    "for k,v in setatts.items():\n",
    "    if hasattr(est, k):\n",
    "        setattr(est, k, v)\n",
    "# print(40*'=','Evaluating ',est,' on ',dataset,40*'=',sep='\\n')\n",
    "\n",
    "\n",
    "print('X_train:',X_train.shape)\n",
    "print('y_train:',y_train.shape)\n",
    "\n",
    "\n",
    "################################################## \n",
    "# Fit models\n",
    "################################################## \n",
    "print('training',est)\n",
    "t0 = time.time()\n",
    "# with warnings.catch_warnings():\n",
    "#     warnings.simplefilter(\"ignore\")\n",
    "est.fit(X_train, y_train)\n",
    "train_time = time.time() - t0\n",
    "print('Training finished in',train_time,'seconds')"
   ]
  },
  {
   "cell_type": "markdown",
   "id": "a1387f84",
   "metadata": {},
   "source": [
    "# measure disparities\n",
    "- make a dataframe of model predictions and demographics\n",
    "- run `measure_disparity.py` on the dataframe"
   ]
  },
  {
   "cell_type": "code",
   "execution_count": null,
   "id": "2544caac",
   "metadata": {},
   "outputs": [],
   "source": [
    "# make dataframe\n",
    "demographics = [c for c in X_test.columns if any(g in c for g in ['ethnicity','gender','insurance'])]\n",
    "demographics\n",
    "import json\n",
    "with open('data/mimic/mimic4_admissions.csv.label_encodings.json','r') as f:\n",
    "    enc = json.load(f)\n",
    "X_nice = X_test.copy()\n",
    "for d in demographics:\n",
    "    print(d)\n",
    "    if d in enc.keys():\n",
    "        print(enc[d]['classes_'])\n",
    "        print(X_nice[d].unique())\n",
    "        X_nice[d] = X_nice[d].apply(lambda x: enc[d]['classes_'][x])\n",
    "df = pd.DataFrame(X_nice[demographics])\n",
    "df['model prediction'] = est.predict_proba(X_test)[:,1]\n",
    "df['model label'] = est.predict(X_test)\n",
    "df['sample weights'] = np.ones((len(X_test),))\n",
    "df['binary outcome'] = y_test\n",
    "\n",
    "df.to_csv('lr_model_mimic4_admission.csv', index=False)"
   ]
  },
  {
   "cell_type": "code",
   "execution_count": null,
   "id": "6167cb7c",
   "metadata": {},
   "outputs": [],
   "source": [
    "df"
   ]
  },
  {
   "cell_type": "markdown",
   "id": "060f43c7",
   "metadata": {},
   "source": [
    "# run measure_disparity.py on model output"
   ]
  },
  {
   "cell_type": "code",
   "execution_count": null,
   "id": "6df7ca69",
   "metadata": {},
   "outputs": [],
   "source": [
    "%run measure_disparity.py --dataset lr_model_mimic4_admission.csv -- --interactive"
   ]
  },
  {
   "cell_type": "code",
   "execution_count": null,
   "id": "10156c23",
   "metadata": {},
   "outputs": [],
   "source": [
    "from measure_disparity import measure_disparity\n",
    "df_fairness = measure_disparity('lr_model_mimic4_admission.csv')"
   ]
  },
  {
   "cell_type": "code",
   "execution_count": null,
   "id": "1efc28f1",
   "metadata": {},
   "outputs": [],
   "source": [
    "df_fairness"
   ]
  }
 ],
 "metadata": {
  "kernelspec": {
   "display_name": "Python 3 (ipykernel)",
   "language": "python",
   "name": "python3"
  },
  "language_info": {
   "codemirror_mode": {
    "name": "ipython",
    "version": 3
   },
   "file_extension": ".py",
   "mimetype": "text/x-python",
   "name": "python",
   "nbconvert_exporter": "python",
   "pygments_lexer": "ipython3",
   "version": "3.11.0"
  }
 },
 "nbformat": 4,
 "nbformat_minor": 5
}
