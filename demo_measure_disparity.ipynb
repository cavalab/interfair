{
 "cells": [
  {
   "cell_type": "markdown",
   "id": "a1387f84",
   "metadata": {},
   "source": [
    "# measure disparities\n",
    "- make a dataframe of model predictions and demographics\n",
    "- run `measure_disparity.py` on the dataframe"
   ]
  },
  {
   "cell_type": "markdown",
   "id": "060f43c7",
   "metadata": {},
   "source": [
    "# run measure_disparity.py on model output"
   ]
  },
  {
   "cell_type": "code",
   "execution_count": 1,
   "id": "6df7ca69",
   "metadata": {
    "scrolled": false
   },
   "outputs": [
    {
     "name": "stdout",
     "output_type": "stream",
     "text": [
      "reading in base_model_mimic4_admission.csv\n",
      "demographic columns: ['insurance', 'ethnicity', 'gender']\n",
      "========================================\n",
      "Overall Performance\n",
      "========================================\n",
      "\tMeasures of predictive bias on the whole population.\n",
      "╭─────────┬─────────┬───────────────────┬───────┬───────┬────────────╮\n",
      "│   AUROC │   AUPRC │   Positivity Rate │   FPR │   FNR │   Accuracy │\n",
      "├─────────┼─────────┼───────────────────┼───────┼───────┼────────────┤\n",
      "│   0.881 │    0.77 │             0.299 │  0.08 │ 0.409 │      0.823 │\n",
      "╰─────────┴─────────┴───────────────────┴───────┴───────┴────────────╯\n",
      "========================================\n",
      "Subgroup Fairness Violations\n",
      "========================================\n",
      "\tMeasures the deviation in performance for marginal and intersectional groups.\n",
      "\tNote that these deviation are weighted by group prevalence to produce stable estimates when sample sizes are small.\n",
      "╭─────────────┬───────────────────────────────┬──────────┬─────────────────────┬─────────┬─────────┬───────────────────╮\n",
      "│   insurance │                     ethnicity │   gender │   Brier Score (MSE) │     FNR │     FPR │   Positivity Rate │\n",
      "├─────────────┼───────────────────────────────┼──────────┼─────────────────────┼─────────┼─────────┼───────────────────┤\n",
      "│         any │                           any │        F │              -0.006 │   0.007 │  -0.015 │            -0.022 │\n",
      "│         any │                           any │        M │               0.006 │   -0.01 │    0.02 │             0.022 │\n",
      "│         any │ AMERICAN INDIAN/ALASKA NATIVE │      any │                 0.0 │   0.024 │  -0.036 │              -0.0 │\n",
      "│         any │                         ASIAN │      any │               0.001 │   0.022 │   0.008 │               0.0 │\n",
      "│         any │        BLACK/AFRICAN AMERICAN │      any │              -0.012 │   0.015 │  -0.058 │          **-0.035 │\n",
      "│         any │               HISPANIC/LATINO │      any │              -0.004 │   0.015 │  -0.044 │            -0.012 │\n",
      "│         any │                         WHITE │      any │             **0.015 │  -0.011 │   0.033 │             0.047 │\n",
      "│    Medicaid │                           any │      any │              -0.005 │   0.008 │  -0.048 │            -0.013 │\n",
      "│    Medicaid │ AMERICAN INDIAN/ALASKA NATIVE │        F │                -0.0 │   0.021 │  -0.154 │              -0.0 │\n",
      "│    Medicaid │ AMERICAN INDIAN/ALASKA NATIVE │        M │                -0.0 │    -0.0 │  -0.034 │              -0.0 │\n",
      "│    Medicaid │                         ASIAN │        F │                 0.0 │   0.036 │   0.005 │              -0.0 │\n",
      "│    Medicaid │                         ASIAN │        M │                 0.0 │  -0.004 │   0.056 │               0.0 │\n",
      "│    Medicaid │        BLACK/AFRICAN AMERICAN │        F │              -0.002 │    0.01 │  -0.085 │            -0.006 │\n",
      "│    Medicaid │        BLACK/AFRICAN AMERICAN │        M │              -0.001 │   0.009 │  -0.084 │            -0.003 │\n",
      "│    Medicaid │               HISPANIC/LATINO │        F │              -0.001 │   0.013 │   -0.07 │            -0.003 │\n",
      "│    Medicaid │               HISPANIC/LATINO │        M │                -0.0 │   0.013 │  -0.027 │            -0.001 │\n",
      "│    Medicaid │                         WHITE │        F │                -0.0 │   0.007 │  -0.018 │            -0.001 │\n",
      "│    Medicaid │                         WHITE │        M │                -0.0 │  -0.006 │  -0.006 │              -0.0 │\n",
      "│    Medicare │                           any │      any │               0.005 │  -0.024 │    0.03 │             0.028 │\n",
      "│    Medicare │ AMERICAN INDIAN/ALASKA NATIVE │        F │                 0.0 │ **0.047 │ **0.074 │               0.0 │\n",
      "│    Medicare │ AMERICAN INDIAN/ALASKA NATIVE │        M │                 0.0 │   0.045 │   0.058 │               0.0 │\n",
      "│    Medicare │                         ASIAN │        F │                 0.0 │   0.019 │   0.007 │               0.0 │\n",
      "│    Medicare │                         ASIAN │        M │                 0.0 │   -0.03 │   0.046 │               0.0 │\n",
      "│    Medicare │        BLACK/AFRICAN AMERICAN │        F │              -0.001 │   0.013 │  -0.035 │            -0.003 │\n",
      "│    Medicare │        BLACK/AFRICAN AMERICAN │        M │                -0.0 │   0.009 │  -0.028 │            -0.002 │\n",
      "│    Medicare │               HISPANIC/LATINO │        F │                -0.0 │   0.001 │  -0.039 │            -0.001 │\n",
      "│    Medicare │               HISPANIC/LATINO │        M │                -0.0 │   0.001 │   0.002 │              -0.0 │\n",
      "│    Medicare │                         WHITE │        F │               0.003 │  -0.026 │   0.041 │             0.015 │\n",
      "│    Medicare │                         WHITE │        M │               0.003 │  -0.046 │    0.06 │             0.019 │\n",
      "│       Other │                           any │      any │               0.001 │   0.012 │  -0.007 │            -0.014 │\n",
      "│       Other │ AMERICAN INDIAN/ALASKA NATIVE │        F │                -0.0 │   0.028 │  -0.076 │              -0.0 │\n",
      "│       Other │ AMERICAN INDIAN/ALASKA NATIVE │        M │                 0.0 │  -0.001 │  -0.025 │               0.0 │\n",
      "│       Other │                         ASIAN │        F │                 0.0 │   0.043 │  -0.012 │            -0.001 │\n",
      "│       Other │                         ASIAN │        M │                 0.0 │   0.002 │   0.023 │             0.001 │\n",
      "│       Other │        BLACK/AFRICAN AMERICAN │        F │              -0.006 │   0.017 │   -0.07 │            -0.017 │\n",
      "│       Other │        BLACK/AFRICAN AMERICAN │        M │              -0.001 │   0.021 │  -0.041 │            -0.005 │\n",
      "│       Other │               HISPANIC/LATINO │        F │              -0.002 │   0.018 │  -0.059 │            -0.006 │\n",
      "│       Other │               HISPANIC/LATINO │        M │                -0.0 │   0.023 │  -0.017 │            -0.001 │\n",
      "│       Other │                         WHITE │        F │               0.004 │   0.017 │   0.012 │             0.001 │\n",
      "│       Other │                         WHITE │        M │               0.005 │  -0.007 │   0.041 │             0.014 │\n",
      "╰─────────────┴───────────────────────────────┴──────────┴─────────────────────┴─────────┴─────────┴───────────────────╯\n",
      "Subgroups with Largest Deviations\n",
      "--------------------\n",
      "Brier Score (MSE)\n",
      "----------\n",
      "- Subgroup: ethnicity=WHITE\n",
      "- Brier Score (MSE) is 19.9 % higher among this group than the population.\n",
      "\n",
      "FNR\n",
      "----------\n",
      "- Subgroup: insurance=Medicare,ethnicity=AMERICAN INDIAN/ALASKA NATIVE,gender=F\n",
      "- FNR is 20.4 % higher among this group than the population.\n",
      "\n",
      "FPR\n",
      "----------\n",
      "- Subgroup: insurance=Medicare,ethnicity=AMERICAN INDIAN/ALASKA NATIVE,gender=F\n",
      "- FPR is 86.0 % higher among this group than the population.\n",
      "\n",
      "Positivity Rate\n",
      "----------\n",
      "- Subgroup: ethnicity=BLACK/AFRICAN AMERICAN\n",
      "- Positivity Rate is 44.9 % lower among this group than the population.\n",
      "\n"
     ]
    }
   ],
   "source": [
    "%run measure_disparity.py --dataset base_model_mimic4_admission.csv "
   ]
  },
  {
   "cell_type": "code",
   "execution_count": 2,
   "id": "10156c23",
   "metadata": {},
   "outputs": [
    {
     "name": "stdout",
     "output_type": "stream",
     "text": [
      "reading in base_model_mimic4_admission.csv\n",
      "demographic columns: ['insurance', 'ethnicity', 'gender']\n",
      "========================================\n",
      "Overall Performance\n",
      "========================================\n",
      "\tMeasures of predictive bias on the whole population.\n",
      "╭─────────┬─────────┬───────────────────┬───────┬───────┬────────────╮\n",
      "│   AUROC │   AUPRC │   Positivity Rate │   FPR │   FNR │   Accuracy │\n",
      "├─────────┼─────────┼───────────────────┼───────┼───────┼────────────┤\n",
      "│   0.881 │    0.77 │             0.299 │  0.08 │ 0.409 │      0.823 │\n",
      "╰─────────┴─────────┴───────────────────┴───────┴───────┴────────────╯\n",
      "========================================\n",
      "Subgroup Fairness Violations\n",
      "========================================\n",
      "\tMeasures the deviation in performance for marginal and intersectional groups.\n",
      "\tNote that these deviation are weighted by group prevalence to produce stable estimates when sample sizes are small.\n",
      "╭─────────────┬───────────────────────────────┬──────────┬─────────────────────┬─────────┬─────────┬───────────────────╮\n",
      "│   insurance │                     ethnicity │   gender │   Brier Score (MSE) │     FNR │     FPR │   Positivity Rate │\n",
      "├─────────────┼───────────────────────────────┼──────────┼─────────────────────┼─────────┼─────────┼───────────────────┤\n",
      "│         any │                           any │        F │              -0.006 │   0.007 │  -0.015 │            -0.022 │\n",
      "│         any │                           any │        M │               0.006 │   -0.01 │    0.02 │             0.022 │\n",
      "│         any │ AMERICAN INDIAN/ALASKA NATIVE │      any │                 0.0 │   0.024 │  -0.036 │              -0.0 │\n",
      "│         any │                         ASIAN │      any │               0.001 │   0.022 │   0.008 │               0.0 │\n",
      "│         any │        BLACK/AFRICAN AMERICAN │      any │              -0.012 │   0.015 │  -0.058 │          **-0.035 │\n",
      "│         any │               HISPANIC/LATINO │      any │              -0.004 │   0.015 │  -0.044 │            -0.012 │\n",
      "│         any │                         WHITE │      any │             **0.015 │  -0.011 │   0.033 │             0.047 │\n",
      "│    Medicaid │                           any │      any │              -0.005 │   0.008 │  -0.048 │            -0.013 │\n",
      "│    Medicaid │ AMERICAN INDIAN/ALASKA NATIVE │        F │                -0.0 │   0.021 │  -0.154 │              -0.0 │\n",
      "│    Medicaid │ AMERICAN INDIAN/ALASKA NATIVE │        M │                -0.0 │    -0.0 │  -0.034 │              -0.0 │\n",
      "│    Medicaid │                         ASIAN │        F │                 0.0 │   0.036 │   0.005 │              -0.0 │\n",
      "│    Medicaid │                         ASIAN │        M │                 0.0 │  -0.004 │   0.056 │               0.0 │\n",
      "│    Medicaid │        BLACK/AFRICAN AMERICAN │        F │              -0.002 │    0.01 │  -0.085 │            -0.006 │\n",
      "│    Medicaid │        BLACK/AFRICAN AMERICAN │        M │              -0.001 │   0.009 │  -0.084 │            -0.003 │\n",
      "│    Medicaid │               HISPANIC/LATINO │        F │              -0.001 │   0.013 │   -0.07 │            -0.003 │\n",
      "│    Medicaid │               HISPANIC/LATINO │        M │                -0.0 │   0.013 │  -0.027 │            -0.001 │\n",
      "│    Medicaid │                         WHITE │        F │                -0.0 │   0.007 │  -0.018 │            -0.001 │\n",
      "│    Medicaid │                         WHITE │        M │                -0.0 │  -0.006 │  -0.006 │              -0.0 │\n",
      "│    Medicare │                           any │      any │               0.005 │  -0.024 │    0.03 │             0.028 │\n",
      "│    Medicare │ AMERICAN INDIAN/ALASKA NATIVE │        F │                 0.0 │ **0.047 │ **0.074 │               0.0 │\n",
      "│    Medicare │ AMERICAN INDIAN/ALASKA NATIVE │        M │                 0.0 │   0.045 │   0.058 │               0.0 │\n",
      "│    Medicare │                         ASIAN │        F │                 0.0 │   0.019 │   0.007 │               0.0 │\n",
      "│    Medicare │                         ASIAN │        M │                 0.0 │   -0.03 │   0.046 │               0.0 │\n",
      "│    Medicare │        BLACK/AFRICAN AMERICAN │        F │              -0.001 │   0.013 │  -0.035 │            -0.003 │\n",
      "│    Medicare │        BLACK/AFRICAN AMERICAN │        M │                -0.0 │   0.009 │  -0.028 │            -0.002 │\n",
      "│    Medicare │               HISPANIC/LATINO │        F │                -0.0 │   0.001 │  -0.039 │            -0.001 │\n",
      "│    Medicare │               HISPANIC/LATINO │        M │                -0.0 │   0.001 │   0.002 │              -0.0 │\n",
      "│    Medicare │                         WHITE │        F │               0.003 │  -0.026 │   0.041 │             0.015 │\n",
      "│    Medicare │                         WHITE │        M │               0.003 │  -0.046 │    0.06 │             0.019 │\n",
      "│       Other │                           any │      any │               0.001 │   0.012 │  -0.007 │            -0.014 │\n",
      "│       Other │ AMERICAN INDIAN/ALASKA NATIVE │        F │                -0.0 │   0.028 │  -0.076 │              -0.0 │\n",
      "│       Other │ AMERICAN INDIAN/ALASKA NATIVE │        M │                 0.0 │  -0.001 │  -0.025 │               0.0 │\n",
      "│       Other │                         ASIAN │        F │                 0.0 │   0.043 │  -0.012 │            -0.001 │\n",
      "│       Other │                         ASIAN │        M │                 0.0 │   0.002 │   0.023 │             0.001 │\n",
      "│       Other │        BLACK/AFRICAN AMERICAN │        F │              -0.006 │   0.017 │   -0.07 │            -0.017 │\n",
      "│       Other │        BLACK/AFRICAN AMERICAN │        M │              -0.001 │   0.021 │  -0.041 │            -0.005 │\n",
      "│       Other │               HISPANIC/LATINO │        F │              -0.002 │   0.018 │  -0.059 │            -0.006 │\n",
      "│       Other │               HISPANIC/LATINO │        M │                -0.0 │   0.023 │  -0.017 │            -0.001 │\n",
      "│       Other │                         WHITE │        F │               0.004 │   0.017 │   0.012 │             0.001 │\n",
      "│       Other │                         WHITE │        M │               0.005 │  -0.007 │   0.041 │             0.014 │\n",
      "╰─────────────┴───────────────────────────────┴──────────┴─────────────────────┴─────────┴─────────┴───────────────────╯\n",
      "Subgroups with Largest Deviations\n",
      "--------------------\n",
      "Brier Score (MSE)\n",
      "----------\n",
      "- Subgroup: ethnicity=WHITE\n",
      "- Brier Score (MSE) is 19.9 % higher among this group than the population.\n",
      "\n",
      "FNR\n",
      "----------\n",
      "- Subgroup: insurance=Medicare,ethnicity=AMERICAN INDIAN/ALASKA NATIVE,gender=F\n",
      "- FNR is 20.4 % higher among this group than the population.\n",
      "\n",
      "FPR\n",
      "----------\n",
      "- Subgroup: insurance=Medicare,ethnicity=AMERICAN INDIAN/ALASKA NATIVE,gender=F\n",
      "- FPR is 86.0 % higher among this group than the population.\n",
      "\n",
      "Positivity Rate\n",
      "----------\n",
      "- Subgroup: ethnicity=BLACK/AFRICAN AMERICAN\n",
      "- Positivity Rate is 44.9 % lower among this group than the population.\n",
      "\n"
     ]
    }
   ],
   "source": [
    "from measure_disparity import measure_disparity\n",
    "df_fairness = measure_disparity('base_model_mimic4_admission.csv')"
   ]
  },
  {
   "cell_type": "code",
   "execution_count": 3,
   "id": "1efc28f1",
   "metadata": {},
   "outputs": [
    {
     "ename": "AttributeError",
     "evalue": "'NoneType' object has no attribute 'round'",
     "output_type": "error",
     "traceback": [
      "\u001b[0;31m---------------------------------------------------------------------------\u001b[0m",
      "\u001b[0;31mAttributeError\u001b[0m                            Traceback (most recent call last)",
      "Cell \u001b[0;32mIn[3], line 1\u001b[0m\n\u001b[0;32m----> 1\u001b[0m \u001b[43mdf_fairness\u001b[49m\u001b[38;5;241;43m.\u001b[39;49m\u001b[43mround\u001b[49m(\u001b[38;5;241m3\u001b[39m)\n",
      "\u001b[0;31mAttributeError\u001b[0m: 'NoneType' object has no attribute 'round'"
     ]
    }
   ],
   "source": [
    "df_fairness.round(3)"
   ]
  }
 ],
 "metadata": {
  "kernelspec": {
   "display_name": "Python 3 (ipykernel)",
   "language": "python",
   "name": "python3"
  },
  "language_info": {
   "codemirror_mode": {
    "name": "ipython",
    "version": 3
   },
   "file_extension": ".py",
   "mimetype": "text/x-python",
   "name": "python",
   "nbconvert_exporter": "python",
   "pygments_lexer": "ipython3",
   "version": "3.11.0"
  }
 },
 "nbformat": 4,
 "nbformat_minor": 5
}
